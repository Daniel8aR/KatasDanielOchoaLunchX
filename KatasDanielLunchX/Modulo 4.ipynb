{
 "cells": [
  {
   "cell_type": "code",
   "execution_count": null,
   "metadata": {},
   "outputs": [],
   "source": [
    "text = \"\"\"Interesting facts about the Moon. The Moon is Earth's only satellite. There are several interesting facts about the Moon and how it affects life here on Earth. \n",
    "On average, the Moon moves 4cm away from the Earth every year. This yearly drift is not significant enough to cause immediate effects on Earth. The highest daylight temperature of the Moon is 127 C .\"\"\"\n",
    "\n",
    "key_words = [\"satellite\",\"average\",\"temperature\"]\n",
    "\n",
    "for text in text.split('.'):\n",
    "    for key_word in key_words:\n",
    "        if key_word in text:\n",
    "            print(text.replace(' C', ' Celsius'))"
   ]
  },
  {
   "cell_type": "code",
   "execution_count": null,
   "metadata": {},
   "outputs": [],
   "source": [
    "name = \"Moon\"\n",
    "gravity = 0.00162 \n",
    "planet = \"Earth\"\n",
    "\n",
    "title = f\"Datos de la gravedad de {planet}\"\n",
    "\n",
    "facts = f\"\"\"{\"\"} \n",
    "Nombre del planeta: {name} \n",
    "Gravedad en {name}: {round(gravity*1000,3)} m/s^2 \n",
    "\"\"\"\n",
    "\n",
    "unidos = f\"\"\"{title} \n",
    "{facts}\n",
    "\"\"\"\n",
    "\n",
    "print(unidos)\n"
   ]
  }
 ],
 "metadata": {
  "interpreter": {
   "hash": "2bdbd1e8c39482ac83bbdfdff50e2443bd3d1ce81fdc60af774e16584447dfc6"
  },
  "kernelspec": {
   "display_name": "Python 3.10.2 64-bit (windows store)",
   "language": "python",
   "name": "python3"
  },
  "language_info": {
   "codemirror_mode": {
    "name": "ipython",
    "version": 3
   },
   "file_extension": ".py",
   "mimetype": "text/x-python",
   "name": "python",
   "nbconvert_exporter": "python",
   "pygments_lexer": "ipython3",
   "version": "3.10.2"
  },
  "orig_nbformat": 4
 },
 "nbformat": 4,
 "nbformat_minor": 2
}
