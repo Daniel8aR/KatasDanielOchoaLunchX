{
 "cells": [
  {
   "cell_type": "code",
   "execution_count": null,
   "metadata": {},
   "outputs": [],
   "source": [
    "newPlanet = ''\n",
    "planets = []\n",
    "\n",
    "while newPlanet.lower() != 'done':\n",
    "    if newPlanet:\n",
    "        planets.append(newPlanet)\n",
    "    newPlanet = input(\"Ingrese un nuevo nombre de planeta o que escriba done si ha terminado\")\n",
    "\n",
    "for newPlanet in planets:\n",
    "    print(newPlanet)"
   ]
  }
 ],
 "metadata": {
  "interpreter": {
   "hash": "2bdbd1e8c39482ac83bbdfdff50e2443bd3d1ce81fdc60af774e16584447dfc6"
  },
  "kernelspec": {
   "display_name": "Python 3.10.2 64-bit (windows store)",
   "language": "python",
   "name": "python3"
  },
  "language_info": {
   "codemirror_mode": {
    "name": "ipython",
    "version": 3
   },
   "file_extension": ".py",
   "mimetype": "text/x-python",
   "name": "python",
   "nbconvert_exporter": "python",
   "pygments_lexer": "ipython3",
   "version": "3.10.2"
  },
  "orig_nbformat": 4
 },
 "nbformat": 4,
 "nbformat_minor": 2
}
