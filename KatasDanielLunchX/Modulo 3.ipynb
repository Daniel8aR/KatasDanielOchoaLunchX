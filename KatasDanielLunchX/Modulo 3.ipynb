{
 "cells": [
  {
   "cell_type": "code",
   "execution_count": 14,
   "metadata": {},
   "outputs": [
    {
     "name": "stdout",
     "output_type": "stream",
     "text": [
      "No hay peligro de asteroide\n"
     ]
    }
   ],
   "source": [
    "asterVel1 = 25\n",
    "\n",
    "if(asterVel1 > 25):\n",
    "    print(\"Un asteroide se acerca\")\n",
    "else:\n",
    "    print(\"No hay peligro de asteroide\")"
   ]
  },
  {
   "cell_type": "code",
   "execution_count": 15,
   "metadata": {},
   "outputs": [
    {
     "name": "stdout",
     "output_type": "stream",
     "text": [
      "\n",
      "No hay nada de que preocupárse\n",
      "\n"
     ]
    }
   ],
   "source": [
    "asterVel = 19\n",
    "if(asterVel > 20):\n",
    "    print(\"\\n¡Alerta! Un asteroide se acerca a la Tierra\\n\")\n",
    "elif(asterVel==20):\n",
    "    print(\"\\n¡Alerta! Un asteroide se acerca a la Tierra\\n\")\n",
    "else:\n",
    "    print(\"\\nNo hay nada de que preocupárse\\n\")"
   ]
  },
  {
   "cell_type": "code",
   "execution_count": 27,
   "metadata": {},
   "outputs": [],
   "source": [
    "asterVel = 19\n",
    "asterTam = 20\n",
    "if(asterVel > 25 and asterTam > 25):\n",
    "    print(\"¡Cuidado!, el asteroide va a impactar\")\n",
    "elif(asterVel >= 20): \n",
    "    print(\"¡Alerta! Un asteroide se acerca a la Tierra\")\n",
    "elif(asterTam<20): \n",
    "    print(\"No hay nada de que preocupárse\")\n",
    "else: \n",
    "    print(\"No hay nada de que preocupárse\")"
   ]
  }
 ],
 "metadata": {
  "interpreter": {
   "hash": "2bdbd1e8c39482ac83bbdfdff50e2443bd3d1ce81fdc60af774e16584447dfc6"
  },
  "kernelspec": {
   "display_name": "Python 3.10.2 64-bit (windows store)",
   "name": "python3"
  },
  "language_info": {
   "codemirror_mode": {
    "name": "ipython",
    "version": 3
   },
   "file_extension": ".py",
   "mimetype": "text/x-python",
   "name": "python",
   "nbconvert_exporter": "python",
   "pygments_lexer": "ipython3",
   "version": "3.10.2"
  },
  "orig_nbformat": 4
 },
 "nbformat": 4,
 "nbformat_minor": 2
}
