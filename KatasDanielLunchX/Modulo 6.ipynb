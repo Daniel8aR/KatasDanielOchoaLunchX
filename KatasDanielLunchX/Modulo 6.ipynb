{
 "cells": [
  {
   "cell_type": "code",
   "execution_count": null,
   "metadata": {},
   "outputs": [],
   "source": [
    "planets = ['Mercurio', 'Venus', 'Tierra', 'Marte', 'Jupiter', 'Saturno', 'Urano', 'Neptuno']\n",
    "\n",
    "planetsNum = len(planets)\n",
    "print(\"El numero total de planetas es: \",planetsNum)\n",
    "\n",
    "planets.append('Plutón')\n",
    "planetsNum = len(planets)\n",
    "print(\"El numero total de planetas es: \",planetsNum)\n",
    "print(\"El último planteta del sistema solar es: \",planets[-1])"
   ]
  },
  {
   "cell_type": "code",
   "execution_count": null,
   "metadata": {},
   "outputs": [],
   "source": [
    "planets = ['Mercurio', 'Venus', 'Tierra', 'Marte', 'Jupiter', 'Saturno', 'Urano', 'Neptuno']\n",
    "\n",
    "selectPlanet = input('Escriba el nombre del planeta que desee buscar: ')\n",
    "searchPlanet = planets.index(selectPlanet)\n",
    "\n",
    "planestNearestSun = planets[0:searchPlanet]\n",
    "print(\"Los planetas más cercanos al sol antes del planetas buscado son: \",planestNearestSun)"
   ]
  }
 ],
 "metadata": {
  "interpreter": {
   "hash": "2bdbd1e8c39482ac83bbdfdff50e2443bd3d1ce81fdc60af774e16584447dfc6"
  },
  "kernelspec": {
   "display_name": "Python 3.10.2 64-bit (windows store)",
   "language": "python",
   "name": "python3"
  },
  "language_info": {
   "codemirror_mode": {
    "name": "ipython",
    "version": 3
   },
   "file_extension": ".py",
   "mimetype": "text/x-python",
   "name": "python",
   "nbconvert_exporter": "python",
   "pygments_lexer": "ipython3",
   "version": "3.10.2"
  },
  "orig_nbformat": 4
 },
 "nbformat": 4,
 "nbformat_minor": 2
}
