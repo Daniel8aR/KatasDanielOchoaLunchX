{
 "cells": [
  {
   "cell_type": "code",
   "execution_count": 2,
   "metadata": {},
   "outputs": [
    {
     "name": "stdout",
     "output_type": "stream",
     "text": [
      "Fecha del día de hoy: \n",
      "2022-02-14\n",
      "\n",
      "La conversión de 5 parsecs es de 16.305 años luz\n"
     ]
    }
   ],
   "source": [
    "from datetime import date\n",
    "\n",
    "print(\"Fecha del día de hoy: \")\n",
    "print(date.today())\n",
    "\n",
    "parsec = 5\n",
    "lightyears = 3.261 * parsec\n",
    "\n",
    "print(\"\\nLa conversión de \" + str(parsec) + \" parsecs es de \" + str(lightyears) + \" años luz\") "
   ]
  }
 ],
 "metadata": {
  "interpreter": {
   "hash": "2bdbd1e8c39482ac83bbdfdff50e2443bd3d1ce81fdc60af774e16584447dfc6"
  },
  "kernelspec": {
   "display_name": "Python 3.10.2 64-bit (windows store)",
   "name": "python3"
  },
  "language_info": {
   "codemirror_mode": {
    "name": "ipython",
    "version": 3
   },
   "file_extension": ".py",
   "mimetype": "text/x-python",
   "name": "python",
   "nbconvert_exporter": "python",
   "pygments_lexer": "ipython3",
   "version": "3.10.2"
  },
  "orig_nbformat": 4
 },
 "nbformat": 4,
 "nbformat_minor": 2
}
