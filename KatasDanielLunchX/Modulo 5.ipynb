{
 "cells": [
  {
   "cell_type": "code",
   "execution_count": 1,
   "metadata": {},
   "outputs": [
    {
     "name": "stdout",
     "output_type": "stream",
     "text": [
      "628949330\n",
      "390577534\n"
     ]
    }
   ],
   "source": [
    "#Distancia entre dos planetas\n",
    "disEarthKm = 149597870 \n",
    "disJupiterKm = 778547200\n",
    "\n",
    "disAmbosKm = disEarthKm - disJupiterKm\n",
    "\n",
    "disMill = disAmbosKm * 0.621\n",
    "\n",
    "print(abs(disAmbosKm))\n",
    "print(round(abs(disMill)))"
   ]
  },
  {
   "cell_type": "code",
   "execution_count": 1,
   "metadata": {},
   "outputs": [
    {
     "name": "stdout",
     "output_type": "stream",
     "text": [
      "Distancia en Km entre los dos planetas es 170853561\n",
      "Distancia en Millas entre los dos planetas es 106100061.381\n"
     ]
    }
   ],
   "source": [
    "FirstP = input('Escriba la distancia del primer planeta: ')\n",
    "SecondP = input('Escriba la distancia del segundo planeta: ')\n",
    "\n",
    "intFirstP = int(FirstP)\n",
    "intSecondP = int(SecondP)\n",
    "\n",
    "distKm = abs(intFirstP - intSecondP)\n",
    "distMill = distKm * 0.621\n",
    "\n",
    "print(\"Distancia en Km entre los dos planetas es\", distKm)\n",
    "print(\"Distancia en Millas entre los dos planetas es\", distMill)"
   ]
  }
 ],
 "metadata": {
  "interpreter": {
   "hash": "2bdbd1e8c39482ac83bbdfdff50e2443bd3d1ce81fdc60af774e16584447dfc6"
  },
  "kernelspec": {
   "display_name": "Python 3.10.2 64-bit (windows store)",
   "language": "python",
   "name": "python3"
  },
  "language_info": {
   "codemirror_mode": {
    "name": "ipython",
    "version": 3
   },
   "file_extension": ".py",
   "mimetype": "text/x-python",
   "name": "python",
   "nbconvert_exporter": "python",
   "pygments_lexer": "ipython3",
   "version": "3.10.2"
  },
  "orig_nbformat": 4
 },
 "nbformat": 4,
 "nbformat_minor": 2
}
